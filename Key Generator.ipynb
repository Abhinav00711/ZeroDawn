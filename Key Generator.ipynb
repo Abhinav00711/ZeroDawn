{
 "cells": [
  {
   "cell_type": "code",
   "execution_count": 7,
   "metadata": {},
   "outputs": [
    {
     "name": "stdout",
     "output_type": "stream",
     "text": [
      "Requirement already satisfied: PyCryptodome in /opt/anaconda3/lib/python3.9/site-packages (3.16.0)\n",
      "Note: you may need to restart the kernel to use updated packages.\n"
     ]
    }
   ],
   "source": [
    "pip install PyCryptodome\n"
   ]
  },
  {
   "cell_type": "code",
   "execution_count": 8,
   "metadata": {},
   "outputs": [
    {
     "ename": "SyntaxError",
     "evalue": "invalid syntax (RSA.py, line 585)",
     "output_type": "error",
     "traceback": [
      "Traceback \u001b[0;36m(most recent call last)\u001b[0m:\n",
      "  File \u001b[1;32m/opt/anaconda3/lib/python3.9/site-packages/IPython/core/interactiveshell.py:3369\u001b[0m in \u001b[1;35mrun_code\u001b[0m\n    exec(code_obj, self.user_global_ns, self.user_ns)\n",
      "\u001b[0;36m  Input \u001b[0;32mIn [8]\u001b[0;36m in \u001b[0;35m<cell line: 2>\u001b[0;36m\u001b[0m\n\u001b[0;31m    from Crypto.PublicKey import RSA\u001b[0m\n",
      "\u001b[0;36m  File \u001b[0;32m/opt/anaconda3/lib/python3.9/site-packages/Crypto/PublicKey/RSA.py:585\u001b[0;36m\u001b[0m\n\u001b[0;31m    except ValueError, IndexError:\u001b[0m\n\u001b[0m                     ^\u001b[0m\n\u001b[0;31mSyntaxError\u001b[0m\u001b[0;31m:\u001b[0m invalid syntax\n"
     ]
    }
   ],
   "source": [
    "import Crypto\n",
    "from Crypto.PublicKey import RSA\n",
    "from hashlib import sha512"
   ]
  },
  {
   "cell_type": "code",
   "execution_count": 3,
   "metadata": {},
   "outputs": [
    {
     "ename": "NameError",
     "evalue": "name 'RSA' is not defined",
     "output_type": "error",
     "traceback": [
      "\u001b[0;31m---------------------------------------------------------------------------\u001b[0m",
      "\u001b[0;31mNameError\u001b[0m                                 Traceback (most recent call last)",
      "Input \u001b[0;32mIn [3]\u001b[0m, in \u001b[0;36m<cell line: 1>\u001b[0;34m()\u001b[0m\n\u001b[0;32m----> 1\u001b[0m keyPair \u001b[38;5;241m=\u001b[39m \u001b[43mRSA\u001b[49m\u001b[38;5;241m.\u001b[39mgenerate(bits\u001b[38;5;241m=\u001b[39m\u001b[38;5;241m1024\u001b[39m)\n",
      "\u001b[0;31mNameError\u001b[0m: name 'RSA' is not defined"
     ]
    }
   ],
   "source": [
    "keyPair = RSA.generate(bits=1024)"
   ]
  },
  {
   "cell_type": "code",
   "execution_count": 3,
   "metadata": {},
   "outputs": [
    {
     "name": "stdout",
     "output_type": "stream",
     "text": [
      "Public key:  (n=0xce978e74fc714a4cb226ba77640c73edbed606b3b88856eafab9e0b8052dc543bde558be4a99f69fc455100638dd28bce4cccbafb46382d380ea0c5c5abbcfc7a663e29e86a3fa0ac1a5eea15183c6c3fd2f5314971faf6fbd713fab6c6dc64992e69db1cb9073e05bda690c0f13e22f8d28c216b7a02ecfddcaf02032493fd7, e=0x10001)\n",
      "Private key: (n=0xce978e74fc714a4cb226ba77640c73edbed606b3b88856eafab9e0b8052dc543bde558be4a99f69fc455100638dd28bce4cccbafb46382d380ea0c5c5abbcfc7a663e29e86a3fa0ac1a5eea15183c6c3fd2f5314971faf6fbd713fab6c6dc64992e69db1cb9073e05bda690c0f13e22f8d28c216b7a02ecfddcaf02032493fd7, d=0x2728ce2d799e65d584dd5772030a633d18f3cbc06c4597a821cf72fb9eabaedd28d51ccdb1295ef8a8c7f0ea250432d11f537c76792c75a36ea7aea120e7c1ba00ad2eef585e6888c8f0c0bbab0de944cf4ec6ff0612a22786a040e263572d3065dc22eed344526e8439155b81556c425f37b0f500dddc2c92b4289739c13735)\n"
     ]
    }
   ],
   "source": [
    "print(f\"Public key:  (n={hex(keyPair.n)}, e={hex(keyPair.e)})\")\n",
    "print(f\"Private key: (n={hex(keyPair.n)}, d={hex(keyPair.d)})\")"
   ]
  },
  {
   "cell_type": "code",
   "execution_count": 6,
   "metadata": {},
   "outputs": [
    {
     "data": {
      "text/plain": [
       "27498663043920566519476505259775395146426525136177353567229789226713923116771323479415985886527823341004471463687040084951711494176251268462175213926030793827642784931566923971050395852926634069439668150224493762914611849889577999602686193154801744179515933186299236565715727559109642483565702075349293152053"
      ]
     },
     "execution_count": 6,
     "metadata": {},
     "output_type": "execute_result"
    }
   ],
   "source": [
    "keyPair.d"
   ]
  },
  {
   "cell_type": "code",
   "execution_count": 7,
   "metadata": {},
   "outputs": [
    {
     "data": {
      "text/plain": [
       "145073848251915650471880195227200649765454230456804606217390919424524079638063371050149765912286090424585232144548806282751484499402614560773240249150354633475604518130611587640477217028550676483352257238094101679966317155461101401244955094565630150387718112328049838609723300581539542434960260285834912677847"
      ]
     },
     "execution_count": 7,
     "metadata": {},
     "output_type": "execute_result"
    }
   ],
   "source": [
    "keyPair.n"
   ]
  },
  {
   "cell_type": "code",
   "execution_count": 58,
   "metadata": {},
   "outputs": [
    {
     "data": {
      "text/plain": [
       "4348183426121659661111883617768543551161326418466840223435580294208464458025988588880144820117958304292967480953154812440454546273027994736558264131239589794554095615808601191550006984826452680927172288610246211741336404632885655616248017693413076583613455809832475370148117409026626732882913655155771611905"
      ]
     },
     "execution_count": 58,
     "metadata": {},
     "output_type": "execute_result"
    }
   ],
   "source": [
    "int(x)"
   ]
  },
  {
   "cell_type": "code",
   "execution_count": 21,
   "metadata": {},
   "outputs": [],
   "source": [
    "msg = b'A message for signing'"
   ]
  },
  {
   "cell_type": "code",
   "execution_count": 29,
   "metadata": {},
   "outputs": [
    {
     "data": {
      "text/plain": [
       "6866940647303413929360886659707398310585944768741832085930808557104870898512982844426348355404789362574208870076646140489606711762682989682230668797895224"
      ]
     },
     "execution_count": 29,
     "metadata": {},
     "output_type": "execute_result"
    }
   ],
   "source": [
    "hashh = int.from_bytes(sha512(msg).digest(), byteorder='big')\n",
    "hashh"
   ]
  },
  {
   "cell_type": "code",
   "execution_count": 31,
   "metadata": {},
   "outputs": [
    {
     "data": {
      "text/plain": [
       "'0x73d639aba973b1b31c328c394bb6d2a1e776fd5d036439e3d9752fef50f5471412ef22f65fd051b4565b8d071e204ad99293a38a592f673bfc3279406c999cbed9e66a30527a64b4fbbaafb04cf45fa731c859fe9cf2e2bd20a4721405b18ff21e6eebdcbec703eb4570055d34ec8b5373ecafd1b12aeca3d72f76cedd623ed9'"
      ]
     },
     "execution_count": 31,
     "metadata": {},
     "output_type": "execute_result"
    }
   ],
   "source": [
    "signature = pow(hashh, keyPair.d, keyPair.n)\n",
    "hex(signature)"
   ]
  },
  {
   "cell_type": "code",
   "execution_count": 32,
   "metadata": {},
   "outputs": [
    {
     "data": {
      "text/plain": [
       "258"
      ]
     },
     "execution_count": 32,
     "metadata": {},
     "output_type": "execute_result"
    }
   ],
   "source": [
    "len(hex(signature))"
   ]
  },
  {
   "cell_type": "code",
   "execution_count": 33,
   "metadata": {},
   "outputs": [],
   "source": [
    "hashFromSignature = pow(signature, keyPair.e, keyPair.n)"
   ]
  },
  {
   "cell_type": "code",
   "execution_count": 15,
   "metadata": {},
   "outputs": [],
   "source": [
    "l1 = [1,2,3,4,5,6]"
   ]
  },
  {
   "cell_type": "code",
   "execution_count": 19,
   "metadata": {},
   "outputs": [
    {
     "data": {
      "text/plain": [
       "[6, 5, 4]"
      ]
     },
     "execution_count": 19,
     "metadata": {},
     "output_type": "execute_result"
    }
   ],
   "source": [
    "l1[:3]"
   ]
  },
  {
   "cell_type": "code",
   "execution_count": 22,
   "metadata": {},
   "outputs": [],
   "source": [
    "l2 = [str(x) for x in l1]"
   ]
  },
  {
   "cell_type": "code",
   "execution_count": 23,
   "metadata": {},
   "outputs": [
    {
     "data": {
      "text/plain": [
       "['6', '5', '4', '3', '2', '1']"
      ]
     },
     "execution_count": 23,
     "metadata": {},
     "output_type": "execute_result"
    }
   ],
   "source": [
    "l2"
   ]
  },
  {
   "cell_type": "code",
   "execution_count": 1,
   "metadata": {},
   "outputs": [],
   "source": [
    "#"
   ]
  },
  {
   "cell_type": "code",
   "execution_count": 111,
   "metadata": {},
   "outputs": [],
   "source": []
  },
  {
   "cell_type": "code",
   "execution_count": 112,
   "metadata": {},
   "outputs": [],
   "source": []
  },
  {
   "cell_type": "code",
   "execution_count": 113,
   "metadata": {},
   "outputs": [
    {
     "data": {
      "text/plain": [
       "60.0"
      ]
     },
     "execution_count": 113,
     "metadata": {},
     "output_type": "execute_result"
    }
   ],
   "source": []
  },
  {
   "cell_type": "code",
   "execution_count": 114,
   "metadata": {},
   "outputs": [],
   "source": []
  },
  {
   "cell_type": "code",
   "execution_count": 116,
   "metadata": {},
   "outputs": [
    {
     "data": {
      "text/plain": [
       "90.0"
      ]
     },
     "execution_count": 116,
     "metadata": {},
     "output_type": "execute_result"
    }
   ],
   "source": []
  },
  {
   "cell_type": "code",
   "execution_count": null,
   "metadata": {},
   "outputs": [],
   "source": []
  }
 ],
 "metadata": {
  "kernelspec": {
   "display_name": "Python 3 (ipykernel)",
   "language": "python",
   "name": "python3"
  },
  "language_info": {
   "codemirror_mode": {
    "name": "ipython",
    "version": 3
   },
   "file_extension": ".py",
   "mimetype": "text/x-python",
   "name": "python",
   "nbconvert_exporter": "python",
   "pygments_lexer": "ipython3",
   "version": "3.9.12"
  }
 },
 "nbformat": 4,
 "nbformat_minor": 4
}
